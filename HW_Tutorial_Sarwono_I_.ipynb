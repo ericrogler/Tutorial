{
 "cells": [
  {
   "cell_type": "markdown",
   "metadata": {},
   "source": [
    "## Zillow Analytics\n",
    "### Zillow provides the largest online real estate database in the U.S.\n",
    "### It becomes one of the most important marketing tools to advertise all kinds of property (land, house, commericals, etc.) and become a trusted website to find information for most of property in the U.S. \n",
    "### One of the unique features is Zestimate. Zestimate is an estimate valuation of each property based on public data in which all the guest can access. Moreover, it also shows almost up-to-date information for each property, such as square footage, the houses feature (number of bedrooms, bath, etc.) and some neighborhood information.\n",
    "### Zillow also provides Application Programming Interface (API) which allows everyone who sign up to collect certain number of their data easily. Moreover, other ways of data collection without this API will be consider as a violation of Zillow terms of use. \n",
    "### There are 3 categories of Zillow API that can be use for free, which are: Home Valuation, Property Details and Neighborhood Data, with Limit queries to 1,000 per day, per API (https://www.zillow.com/howto/api/APITerms.htm)\n",
    "### Therefore, if you are interested to collect Zillow data, it is important to know how to use Zillow API, especially the free ones, in which you can find in this tutorial."
   ]
  },
  {
   "cell_type": "markdown",
   "metadata": {},
   "source": [
    "## This tutorial will cover these following:\n",
    "\n",
    "![](summary.gif?raw=true)"
   ]
  },
  {
   "cell_type": "markdown",
   "metadata": {},
   "source": [
    "# Chapter 1 : Zillow API"
   ]
  },
  {
   "cell_type": "markdown",
   "metadata": {},
   "source": [
    "## 1. Sign up: https://www.zillow.com/\n",
    "\n",
    "![](Zillowsign.gif?raw=true)\n",
    "\n",
    "## 2. Get Zillow Web Service ID (ZWSID) : https://www.zillow.com/howto/api/APIOverview.htm\n",
    "\n",
    "<img src = \"zillowapi.gif\">\n",
    "\n",
    "## 3.\tChoose one of the API : https://www.zillow.com/howto/api/GetZestimate.htm\n",
    "\n",
    "<img src = \"zillowchoose.gif\">\n",
    "<img src = \"zillowchoose2.gif\">\n",
    "\n",
    "## 4. Test Zestimate API with ZPID : http://www.zillow.com/webservice/GetZestimate.htm?zws-id=YourZWSID&zpid=48749425\n",
    "\n",
    "<img src = \"zillowcheck.gif\">\n",
    "\n",
    "## 5. Test Zestimate API with QUERY : http://www.zillow.com/webservice/GetSearchResults.htm?zws-id= YourZWSID &address=1617-Leavenworth-Street&citystatezip=66502\n",
    "#### Note : For query address, remember to replace space with –\n",
    "\n",
    "<img src = \"zillowcheck2.gif\">\n",
    "\n",
    "## 6. Zillow API only return in XML format (not JSON) : https://www.zillow.com/advice-thread/Is-there-a-way-to-get-API-data-in-JSON-format-If-not-is-there-any-plan-to-add-JSON-as-an-option/494343/\n"
   ]
  },
  {
   "cell_type": "markdown",
   "metadata": {},
   "source": [
    "\n",
    "# Chapter 2 : Python Zillow API (Valuation API)"
   ]
  },
  {
   "cell_type": "markdown",
   "metadata": {},
   "source": [
    "## 1. Setup : \n",
    "### https://github.com/seme0021/python-zillow\n",
    "\n",
    "### Open command prompt windows:\n",
    "#### Pip install python-zillow\n",
    "\n",
    "## 2.  Requirement module : \n",
    "### https://github.com/seme0021/python-zillow/blob/master/requirements.txt\n",
    "\n",
    "### Open command prompt windows:\n",
    "#### Pip install requests\n",
    "#### Pip install xmltodict\n",
    "#### Pip install nose\n",
    "#### Pip install coverage\n",
    "#### Note: make sure pip is registered in windows global path\n",
    "\n",
    "## 3. Configure ZWSID : zillow_key.conf\n",
    "\n",
    "<img src = \"zillowconfig.gif\">\n",
    "\n"
   ]
  },
  {
   "cell_type": "markdown",
   "metadata": {},
   "source": [
    "## 4. Example : to get estimated house value by an address"
   ]
  },
  {
   "cell_type": "code",
   "execution_count": 1,
   "metadata": {},
   "outputs": [
    {
     "name": "stdout",
     "output_type": "stream",
     "text": [
      "Result\n",
      "Address : 2520 Heartland Dr, Manhattan, 66503\n",
      "Last Updated : 11/10/2017\n",
      "Estimated Value : USD 555216\n",
      "Value Range High :USD 582977\n",
      "Value Range Low : USD 516351\n"
     ]
    }
   ],
   "source": [
    "import zillow\n",
    "import json\n",
    "\n",
    "### Open your ZWSID\n",
    "with open(\"zillow_key.conf\", 'r') as f:\n",
    "    key = f.readline().replace(\"\\n\", \"\")\n",
    "    \n",
    "api = zillow.ValuationApi()\n",
    "\n",
    "# Find a place given an address\n",
    "address = \"2520 Heartland DR Manhattan, KS\"\n",
    "postal_code = \"66503\"\n",
    "\n",
    "# Dictionary of address result\n",
    "data = api.GetSearchResults(key, address, postal_code)\n",
    "\n",
    "# JSON of address result\n",
    "Result = json.loads(json.dumps(data.get_dict()))\n",
    "\n",
    "print \"Result\"\n",
    "print \"Address : \" + Result[\"full_address\"][\"street\"] + \", \" + Result[\"full_address\"][\"city\"] + \", \" + Result[\"full_address\"][\"zipcode\"]\n",
    "print \"Last Updated : \" + Result[\"zestimate\"][\"amount_last_updated\"]\n",
    "print \"Estimated Value : \" + Result[\"zestimate\"][\"amount_currency\"]+ \" \" + str(Result[\"zestimate\"][\"amount\"])\n",
    "print \"Value Range High :\" + Result[\"zestimate\"][\"amount_currency\"]+ \" \" + str(Result[\"zestimate\"][\"valuation_range_high\"])\n",
    "print \"Value Range Low : \" + Result[\"zestimate\"][\"amount_currency\"]+ \" \" + str(Result[\"zestimate\"][\"valuation_range_low\"])"
   ]
  },
  {
   "cell_type": "markdown",
   "metadata": {},
   "source": [
    "# Chapter 3 : PyZillow API (Property API)"
   ]
  },
  {
   "cell_type": "markdown",
   "metadata": {},
   "source": [
    "## 1. Setup : \n",
    "### http://pyzillow.readthedocs.io/en/latest/\n",
    "### https://pypi.python.org/pypi/pyzillow/0.5.5\n",
    "\n",
    "<img src = \"pyzillow1.gif\">\n",
    "\n",
    "## 2. Requirement module : https://github.com/hanneshapke/pyzillow/blob/master/requirements/test_requirements.txt\n",
    "\n",
    "\n",
    "<img src = \"pyzillow2.gif\">\n",
    "\n",
    "### Open command prompt windows:\n",
    "#### Pip install requests\n",
    "#### Pip install xmltodict\n",
    "#### Pip install nose\n",
    "#### Pip install coverage\n",
    "##### Note: make sure pip is registered in windows global path\n",
    "\n",
    "\n",
    "\n"
   ]
  },
  {
   "cell_type": "markdown",
   "metadata": {},
   "source": [
    "## 3. Example : get house data by an address"
   ]
  },
  {
   "cell_type": "code",
   "execution_count": 2,
   "metadata": {},
   "outputs": [
    {
     "name": "stdout",
     "output_type": "stream",
     "text": [
      "91213690\n",
      "SingleFamily\n",
      "http://www.zillow.com/homedetails/2520-Heartland-Dr-Manhattan-KS-66503/91213690_zpid/\n",
      "http://www.zillow.com/homedetails/2520-Heartland-Dr-Manhattan-KS-66503/91213690_zpid/#charts-and-data\n",
      "http://www.zillow.com/homes/91213690_zpid/\n",
      "39.206639\n",
      "39.206639\n",
      "2017\n",
      "687690.0\n",
      "2008\n",
      "19166\n",
      "3008\n",
      "4.5\n",
      "5\n",
      "None\n",
      "555216\n",
      "11/10/2017\n",
      "582977\n",
      "516351\n",
      "0\n"
     ]
    }
   ],
   "source": [
    "from pyzillow.pyzillow import ZillowWrapper, GetDeepSearchResults\n",
    "from pyzillow.pyzillow import ZillowWrapper, GetUpdatedPropertyDetails\n",
    "\n",
    "### Open your ZWSID\n",
    "with open(\"zillow_key.conf\", 'r') as f:\n",
    "    key = f.readline().replace(\"\\n\", \"\")\n",
    "\n",
    "zillow_data = ZillowWrapper(key)\n",
    "\n",
    "# Find a place given an address\n",
    "address = \"2520 Heartland DR Manhattan, KS\"\n",
    "postal_code = \"66503\"\n",
    "\n",
    "# Address data result\n",
    "deep_search_response = zillow_data.get_deep_search_results(address, postal_code)\n",
    "result = GetDeepSearchResults(deep_search_response)\n",
    "\n",
    "print \"\" + result.zillow_id\n",
    "print \"\" + result.home_type\n",
    "print \"\" + result.home_detail_link\n",
    "print \"\" + str(result.graph_data_link)\n",
    "print \"\" + result.map_this_home_link\n",
    "print \"\" + result.latitude\n",
    "print \"\" + result.latitude\n",
    "print \"\" + str(result.tax_year)\n",
    "print \"\" + str(result.tax_value)\n",
    "print \"\" + result.year_built\n",
    "print \"\" + result.property_size\n",
    "print \"\" + result.home_size\n",
    "print \"\" + result.bathrooms\n",
    "print \"\" + result.bedrooms\n",
    "print \"\" + str(result.last_sold_date)\n",
    "print \"\" + result.zestimate_amount\n",
    "print \"\" + result.zestimate_last_updated\n",
    "print \"\" + result.zestimate_valuation_range_high\n",
    "print \"\" + result.zestimate_valuationRange_low\n",
    "print \"\" + result.zestimate_percentile\n"
   ]
  },
  {
   "cell_type": "markdown",
   "metadata": {},
   "source": [
    "# Chapter 4 : Python (Valuation API)"
   ]
  },
  {
   "cell_type": "markdown",
   "metadata": {},
   "source": [
    "## 1. Example : Valuation API with plain python"
   ]
  },
  {
   "cell_type": "code",
   "execution_count": 3,
   "metadata": {},
   "outputs": [
    {
     "name": "stdout",
     "output_type": "stream",
     "text": [
      "<?xml version=\"1.0\" encoding=\"utf-8\"?><SearchResults:searchresults xsi:schemaLocation=\"http://www.zillow.com/static/xsd/SearchResults.xsd https://www.zillowstatic.com/vstatic/64dd1c9/static/xsd/SearchResults.xsd\" xmlns:xsi=\"http://www.w3.org/2001/XMLSchema-instance\" xmlns:SearchResults=\"http://www.zillow.com/static/xsd/SearchResults.xsd\"><request><address>2732 Tobacco Rd</address><citystatezip>Manhattan, KS</citystatezip></request><message><text>Request successfully processed</text><code>0</code></message><response><results><result><zpid>2105558144</zpid><links><homedetails>https://www.zillow.com/homedetails/2732-Tobacco-Rd-Manhattan-KS-66503/2105558144_zpid/</homedetails><mapthishome>http://www.zillow.com/homes/2105558144_zpid/</mapthishome><comparables>http://www.zillow.com/homes/comps/2105558144_zpid/</comparables></links><address><street>2732 Tobacco Rd</street><zipcode>66503</zipcode><city>Manhattan</city><state>KS</state><latitude>39.1944</latitude><longitude>-96.6453</longitude></address><zestimate><amount currency=\"USD\">262045</amount><last-updated>11/10/2017</last-updated><oneWeekChange deprecated=\"true\"></oneWeekChange><valueChange duration=\"30\" currency=\"USD\">4470</valueChange><valuationRange><low currency=\"USD\">225359</low><high currency=\"USD\">285629</high></valuationRange><percentile>0</percentile></zestimate><localRealEstate><region name=\"Manhattan\" id=\"53133\" type=\"city\"><links><overview>http://www.zillow.com/local-info/KS-Manhattan/r_53133/</overview><forSaleByOwner>http://www.zillow.com/manhattan-ks/fsbo/</forSaleByOwner><forSale>http://www.zillow.com/manhattan-ks/</forSale></links></region></localRealEstate></result></results></response></SearchResults:searchresults><!-- H:008  T:26ms  S:811  R:Mon Nov 13 14:17:04 PST 2017  B:5.0.49536.3-hotfix_2017-11-06.b48c77d~hotfix-platform-for-2017-11-06.a932834 -->\n",
      "OrderedDict([(u'SearchResults:searchresults', OrderedDict([(u'@xsi:schemaLocation', u'http://www.zillow.com/static/xsd/SearchResults.xsd https://www.zillowstatic.com/vstatic/64dd1c9/static/xsd/SearchResults.xsd'), (u'@xmlns:xsi', u'http://www.w3.org/2001/XMLSchema-instance'), (u'@xmlns:SearchResults', u'http://www.zillow.com/static/xsd/SearchResults.xsd'), (u'request', OrderedDict([(u'address', u'2732 Tobacco Rd'), (u'citystatezip', u'Manhattan, KS')])), (u'message', OrderedDict([(u'text', u'Request successfully processed'), (u'code', u'0')])), (u'response', OrderedDict([(u'results', OrderedDict([(u'result', OrderedDict([(u'zpid', u'2105558144'), (u'links', OrderedDict([(u'homedetails', u'https://www.zillow.com/homedetails/2732-Tobacco-Rd-Manhattan-KS-66503/2105558144_zpid/'), (u'mapthishome', u'http://www.zillow.com/homes/2105558144_zpid/'), (u'comparables', u'http://www.zillow.com/homes/comps/2105558144_zpid/')])), (u'address', OrderedDict([(u'street', u'2732 Tobacco Rd'), (u'zipcode', u'66503'), (u'city', u'Manhattan'), (u'state', u'KS'), (u'latitude', u'39.1944'), (u'longitude', u'-96.6453')])), (u'zestimate', OrderedDict([(u'amount', OrderedDict([(u'@currency', u'USD'), ('#text', u'262045')])), (u'last-updated', u'11/10/2017'), (u'oneWeekChange', OrderedDict([(u'@deprecated', u'true')])), (u'valueChange', OrderedDict([(u'@duration', u'30'), (u'@currency', u'USD'), ('#text', u'4470')])), (u'valuationRange', OrderedDict([(u'low', OrderedDict([(u'@currency', u'USD'), ('#text', u'225359')])), (u'high', OrderedDict([(u'@currency', u'USD'), ('#text', u'285629')]))])), (u'percentile', u'0')])), (u'localRealEstate', OrderedDict([(u'region', OrderedDict([(u'@name', u'Manhattan'), (u'@id', u'53133'), (u'@type', u'city'), (u'links', OrderedDict([(u'overview', u'http://www.zillow.com/local-info/KS-Manhattan/r_53133/'), (u'forSaleByOwner', u'http://www.zillow.com/manhattan-ks/fsbo/'), (u'forSale', u'http://www.zillow.com/manhattan-ks/')]))]))]))]))]))]))]))])\n"
     ]
    }
   ],
   "source": [
    "import requests\n",
    "import xmltodict\n",
    "import urllib2\n",
    "from PIL import Image\n",
    "import cStringIO\n",
    "\n",
    "# Get our unique ZWSID from text file\n",
    "# Make sure zillow_key.conf exist within our ipynb folder\n",
    "with open(\"zillow_key.conf\", 'r') as f:\n",
    "    key = f.readline().replace(\"\\n\", \"\")\n",
    "\n",
    "##########################\n",
    "# 1. GetSearchResult API #\n",
    "##########################\n",
    "\n",
    "# Set our ZWSID and address that we'd like to search\n",
    "data = {'zws-id' : key, 'address' : '2732 Tobacco Rd', 'citystatezip': 'Manhattan, KS'}\n",
    "\n",
    "# Making request to zillow API\n",
    "# Note:\n",
    "# The request will be formatted like following :\n",
    "# https://www.zillow.com/webservice/GetSearchResults.htm?zws-id=xxx_3bebs&address=2732 Tobacco Rd&citystatezip=Manhattan, KS\n",
    "# We also can paste and test it on web browser address bar\n",
    "response = requests.get(\"https://www.zillow.com/webservice/GetSearchResults.htm\", params = data)\n",
    "\n",
    "# If our request successfully processed, the response status code will be 200\n",
    "if response.status_code == 200:\n",
    "    # the response will be in XML document format\n",
    "    responseResultXML = response.text\n",
    "else:\n",
    "    print \"Ooopss... something went wrong : \" + response.status_code\n",
    "\n",
    "# Let's try to view the response in XML document format\n",
    "print responseResultXML\n",
    "\n",
    "# To make it easier for us to access the response\n",
    "# We can convert the XML document format into Python dictionary\n",
    "responseResultDict = xmltodict.parse(responseResultXML)\n",
    "\n",
    "# now we can try to view the response in Python dictionary format\n",
    "print responseResultDict\n"
   ]
  },
  {
   "cell_type": "markdown",
   "metadata": {},
   "source": [
    "<img src = \"Chap4.gif\">"
   ]
  },
  {
   "cell_type": "code",
   "execution_count": 4,
   "metadata": {},
   "outputs": [
    {
     "name": "stdout",
     "output_type": "stream",
     "text": [
      "OrderedDict([(u'@xsi:schemaLocation', u'http://www.zillow.com/static/xsd/SearchResults.xsd https://www.zillowstatic.com/vstatic/64dd1c9/static/xsd/SearchResults.xsd'), (u'@xmlns:xsi', u'http://www.w3.org/2001/XMLSchema-instance'), (u'@xmlns:SearchResults', u'http://www.zillow.com/static/xsd/SearchResults.xsd'), (u'request', OrderedDict([(u'address', u'2732 Tobacco Rd'), (u'citystatezip', u'Manhattan, KS')])), (u'message', OrderedDict([(u'text', u'Request successfully processed'), (u'code', u'0')])), (u'response', OrderedDict([(u'results', OrderedDict([(u'result', OrderedDict([(u'zpid', u'2105558144'), (u'links', OrderedDict([(u'homedetails', u'https://www.zillow.com/homedetails/2732-Tobacco-Rd-Manhattan-KS-66503/2105558144_zpid/'), (u'mapthishome', u'http://www.zillow.com/homes/2105558144_zpid/'), (u'comparables', u'http://www.zillow.com/homes/comps/2105558144_zpid/')])), (u'address', OrderedDict([(u'street', u'2732 Tobacco Rd'), (u'zipcode', u'66503'), (u'city', u'Manhattan'), (u'state', u'KS'), (u'latitude', u'39.1944'), (u'longitude', u'-96.6453')])), (u'zestimate', OrderedDict([(u'amount', OrderedDict([(u'@currency', u'USD'), ('#text', u'262045')])), (u'last-updated', u'11/10/2017'), (u'oneWeekChange', OrderedDict([(u'@deprecated', u'true')])), (u'valueChange', OrderedDict([(u'@duration', u'30'), (u'@currency', u'USD'), ('#text', u'4470')])), (u'valuationRange', OrderedDict([(u'low', OrderedDict([(u'@currency', u'USD'), ('#text', u'225359')])), (u'high', OrderedDict([(u'@currency', u'USD'), ('#text', u'285629')]))])), (u'percentile', u'0')])), (u'localRealEstate', OrderedDict([(u'region', OrderedDict([(u'@name', u'Manhattan'), (u'@id', u'53133'), (u'@type', u'city'), (u'links', OrderedDict([(u'overview', u'http://www.zillow.com/local-info/KS-Manhattan/r_53133/'), (u'forSaleByOwner', u'http://www.zillow.com/manhattan-ks/fsbo/'), (u'forSale', u'http://www.zillow.com/manhattan-ks/')]))]))]))]))]))]))])\n"
     ]
    }
   ],
   "source": [
    "# Let's see the ROOT (see from the above picture)\n",
    "print responseResultDict.get('SearchResults:searchresults')"
   ]
  },
  {
   "cell_type": "markdown",
   "metadata": {},
   "source": [
    "<img src = \"Chap4b.gif\">"
   ]
  },
  {
   "cell_type": "code",
   "execution_count": 5,
   "metadata": {},
   "outputs": [
    {
     "name": "stdout",
     "output_type": "stream",
     "text": [
      "OrderedDict([(u'address', u'2732 Tobacco Rd'), (u'citystatezip', u'Manhattan, KS')])\n",
      "OrderedDict([(u'text', u'Request successfully processed'), (u'code', u'0')])\n",
      "OrderedDict([(u'zpid', u'2105558144'), (u'links', OrderedDict([(u'homedetails', u'https://www.zillow.com/homedetails/2732-Tobacco-Rd-Manhattan-KS-66503/2105558144_zpid/'), (u'mapthishome', u'http://www.zillow.com/homes/2105558144_zpid/'), (u'comparables', u'http://www.zillow.com/homes/comps/2105558144_zpid/')])), (u'address', OrderedDict([(u'street', u'2732 Tobacco Rd'), (u'zipcode', u'66503'), (u'city', u'Manhattan'), (u'state', u'KS'), (u'latitude', u'39.1944'), (u'longitude', u'-96.6453')])), (u'zestimate', OrderedDict([(u'amount', OrderedDict([(u'@currency', u'USD'), ('#text', u'262045')])), (u'last-updated', u'11/10/2017'), (u'oneWeekChange', OrderedDict([(u'@deprecated', u'true')])), (u'valueChange', OrderedDict([(u'@duration', u'30'), (u'@currency', u'USD'), ('#text', u'4470')])), (u'valuationRange', OrderedDict([(u'low', OrderedDict([(u'@currency', u'USD'), ('#text', u'225359')])), (u'high', OrderedDict([(u'@currency', u'USD'), ('#text', u'285629')]))])), (u'percentile', u'0')])), (u'localRealEstate', OrderedDict([(u'region', OrderedDict([(u'@name', u'Manhattan'), (u'@id', u'53133'), (u'@type', u'city'), (u'links', OrderedDict([(u'overview', u'http://www.zillow.com/local-info/KS-Manhattan/r_53133/'), (u'forSaleByOwner', u'http://www.zillow.com/manhattan-ks/fsbo/'), (u'forSale', u'http://www.zillow.com/manhattan-ks/')]))]))]))])\n"
     ]
    }
   ],
   "source": [
    "# There are 3 elements inside the ROOT (see from the above picture)\n",
    "# 1 request : this is our request\n",
    "print responseResultDict.get('SearchResults:searchresults')['request']\n",
    "\n",
    "# 2 message : this is message whether our request is successfull or others\n",
    "print responseResultDict.get('SearchResults:searchresults')['message']\n",
    "\n",
    "# 3 response : this is the actual response of our request\n",
    "# Note : we need to drill-down to results and result to get the actual data\n",
    "print responseResultDict.get('SearchResults:searchresults')['response']['results']['result']\n"
   ]
  },
  {
   "cell_type": "markdown",
   "metadata": {},
   "source": [
    "<img src = \"Chap4c.gif\">"
   ]
  },
  {
   "cell_type": "code",
   "execution_count": 6,
   "metadata": {},
   "outputs": [
    {
     "name": "stdout",
     "output_type": "stream",
     "text": [
      "USD 262045\n"
     ]
    }
   ],
   "source": [
    "# Example (see from the above picture)\n",
    "myCurrency = responseResultDict.get('SearchResults:searchresults')['response']['results']['result']['zestimate']['amount']['@currency']\n",
    "myEstimate = responseResultDict.get('SearchResults:searchresults')['response']['results']['result']['zestimate']['amount']['#text']\n",
    "print myCurrency + \" \" + myEstimate"
   ]
  },
  {
   "cell_type": "code",
   "execution_count": 7,
   "metadata": {},
   "outputs": [
    {
     "name": "stdout",
     "output_type": "stream",
     "text": [
      "<?xml version=\"1.0\" encoding=\"utf-8\"?><Zestimate:zestimate xsi:schemaLocation=\"http://www.zillow.com/static/xsd/Zestimate.xsd https://www.zillowstatic.com/vstatic/64dd1c9/static/xsd/Zestimate.xsd\" xmlns:xsi=\"http://www.w3.org/2001/XMLSchema-instance\" xmlns:Zestimate=\"http://www.zillow.com/static/xsd/Zestimate.xsd\"><request><zpid>2100641621</zpid></request><message><text>Request successfully processed</text><code>0</code></message><response><zpid>2100641621</zpid><links><homedetails>https://www.zillow.com/homedetails/3400-Pacific-Ave-APT-201-Marina-Del-Rey-CA-90292/2100641621_zpid/</homedetails><mapthishome>http://www.zillow.com/homes/2100641621_zpid/</mapthishome><comparables>http://www.zillow.com/homes/comps/2100641621_zpid/</comparables></links><address><street>3400 Pacific Ave APT 201</street><zipcode>90292</zipcode><city>Marina Del Rey</city><state>CA</state><latitude>33.9781</latitude><longitude>-118.4643</longitude></address><zestimate><amount currency=\"USD\">2530369</amount><last-updated>11/10/2017</last-updated><oneWeekChange deprecated=\"true\"></oneWeekChange><valueChange duration=\"30\" currency=\"USD\">52371</valueChange><valuationRange><low currency=\"USD\">1670043</low><high currency=\"USD\">3441302</high></valuationRange><percentile>0</percentile></zestimate><localRealEstate><region name=\"Venice\" id=\"21056\" type=\"neighborhood\"><zindexValue>1,551,500</zindexValue><links><overview>http://www.zillow.com/local-info/CA-Los-Angeles/Venice/r_21056/</overview><forSaleByOwner>http://www.zillow.com/venice-los-angeles-ca/fsbo/</forSaleByOwner><forSale>http://www.zillow.com/venice-los-angeles-ca/</forSale></links></region></localRealEstate><regions><zipcode-id>96128</zipcode-id><city-id>12447</city-id><county-id>3101</county-id><state-id>9</state-id></regions></response></Zestimate:zestimate><!-- H:003  T:86ms  S:874  R:Mon Nov 13 14:17:05 PST 2017  B:5.0.49536.3-hotfix_2017-11-06.b48c77d~hotfix-platform-for-2017-11-06.a932834 -->\n",
      "OrderedDict([(u'Zestimate:zestimate', OrderedDict([(u'@xsi:schemaLocation', u'http://www.zillow.com/static/xsd/Zestimate.xsd https://www.zillowstatic.com/vstatic/64dd1c9/static/xsd/Zestimate.xsd'), (u'@xmlns:xsi', u'http://www.w3.org/2001/XMLSchema-instance'), (u'@xmlns:Zestimate', u'http://www.zillow.com/static/xsd/Zestimate.xsd'), (u'request', OrderedDict([(u'zpid', u'2100641621')])), (u'message', OrderedDict([(u'text', u'Request successfully processed'), (u'code', u'0')])), (u'response', OrderedDict([(u'zpid', u'2100641621'), (u'links', OrderedDict([(u'homedetails', u'https://www.zillow.com/homedetails/3400-Pacific-Ave-APT-201-Marina-Del-Rey-CA-90292/2100641621_zpid/'), (u'mapthishome', u'http://www.zillow.com/homes/2100641621_zpid/'), (u'comparables', u'http://www.zillow.com/homes/comps/2100641621_zpid/')])), (u'address', OrderedDict([(u'street', u'3400 Pacific Ave APT 201'), (u'zipcode', u'90292'), (u'city', u'Marina Del Rey'), (u'state', u'CA'), (u'latitude', u'33.9781'), (u'longitude', u'-118.4643')])), (u'zestimate', OrderedDict([(u'amount', OrderedDict([(u'@currency', u'USD'), ('#text', u'2530369')])), (u'last-updated', u'11/10/2017'), (u'oneWeekChange', OrderedDict([(u'@deprecated', u'true')])), (u'valueChange', OrderedDict([(u'@duration', u'30'), (u'@currency', u'USD'), ('#text', u'52371')])), (u'valuationRange', OrderedDict([(u'low', OrderedDict([(u'@currency', u'USD'), ('#text', u'1670043')])), (u'high', OrderedDict([(u'@currency', u'USD'), ('#text', u'3441302')]))])), (u'percentile', u'0')])), (u'localRealEstate', OrderedDict([(u'region', OrderedDict([(u'@name', u'Venice'), (u'@id', u'21056'), (u'@type', u'neighborhood'), (u'zindexValue', u'1,551,500'), (u'links', OrderedDict([(u'overview', u'http://www.zillow.com/local-info/CA-Los-Angeles/Venice/r_21056/'), (u'forSaleByOwner', u'http://www.zillow.com/venice-los-angeles-ca/fsbo/'), (u'forSale', u'http://www.zillow.com/venice-los-angeles-ca/')]))]))])), (u'regions', OrderedDict([(u'zipcode-id', u'96128'), (u'city-id', u'12447'), (u'county-id', u'3101'), (u'state-id', u'9')]))]))]))])\n"
     ]
    }
   ],
   "source": [
    "#######################\n",
    "# 2. GetZestimate API #\n",
    "#######################\n",
    "\n",
    "# Set our ZWSID and zpid that we'd like to search\n",
    "data = {'zws-id' : key, 'zpid' : '2100641621'}\n",
    "\n",
    "# Making request to zillow API\n",
    "# Note:\n",
    "# The request will be formatted like following :\n",
    "# https://www.zillow.com/webservice/GetZestimate.htm?zws-id=xxx_3bebs&zpid=2100641621\n",
    "# We also can paste and test it on web browser address bar\n",
    "response = requests.get(\"https://www.zillow.com/webservice/GetZestimate.htm\", params = data)\n",
    "\n",
    "# If our request successfully processed, the response status code will be 200\n",
    "if response.status_code == 200:\n",
    "    # the response will be in XML document format\n",
    "    responseResultXML = response.text\n",
    "else:\n",
    "    print \"Ooopss... something went wrong : \" + response.status_code\n",
    "\n",
    "# Let's try to view the response in XML document format\n",
    "print responseResultXML\n",
    "\n",
    "# To make it easier for us to access the response\n",
    "# We can convert the XML document format into Python dictionary\n",
    "responseResultDict = xmltodict.parse(responseResultXML)\n",
    "\n",
    "# now we can try to view the response in Python dictionary format\n",
    "print responseResultDict\n"
   ]
  },
  {
   "cell_type": "markdown",
   "metadata": {},
   "source": [
    "<img src = \"Chap4d.gif\">"
   ]
  },
  {
   "cell_type": "code",
   "execution_count": 8,
   "metadata": {},
   "outputs": [
    {
     "data": {
      "text/plain": [
       "OrderedDict([(u'@xsi:schemaLocation',\n",
       "              u'http://www.zillow.com/static/xsd/Zestimate.xsd https://www.zillowstatic.com/vstatic/64dd1c9/static/xsd/Zestimate.xsd'),\n",
       "             (u'@xmlns:xsi', u'http://www.w3.org/2001/XMLSchema-instance'),\n",
       "             (u'@xmlns:Zestimate',\n",
       "              u'http://www.zillow.com/static/xsd/Zestimate.xsd'),\n",
       "             (u'request', OrderedDict([(u'zpid', u'2100641621')])),\n",
       "             (u'message',\n",
       "              OrderedDict([(u'text', u'Request successfully processed'),\n",
       "                           (u'code', u'0')])),\n",
       "             (u'response',\n",
       "              OrderedDict([(u'zpid', u'2100641621'),\n",
       "                           (u'links',\n",
       "                            OrderedDict([(u'homedetails',\n",
       "                                          u'https://www.zillow.com/homedetails/3400-Pacific-Ave-APT-201-Marina-Del-Rey-CA-90292/2100641621_zpid/'),\n",
       "                                         (u'mapthishome',\n",
       "                                          u'http://www.zillow.com/homes/2100641621_zpid/'),\n",
       "                                         (u'comparables',\n",
       "                                          u'http://www.zillow.com/homes/comps/2100641621_zpid/')])),\n",
       "                           (u'address',\n",
       "                            OrderedDict([(u'street',\n",
       "                                          u'3400 Pacific Ave APT 201'),\n",
       "                                         (u'zipcode', u'90292'),\n",
       "                                         (u'city', u'Marina Del Rey'),\n",
       "                                         (u'state', u'CA'),\n",
       "                                         (u'latitude', u'33.9781'),\n",
       "                                         (u'longitude', u'-118.4643')])),\n",
       "                           (u'zestimate',\n",
       "                            OrderedDict([(u'amount',\n",
       "                                          OrderedDict([(u'@currency', u'USD'),\n",
       "                                                       ('#text',\n",
       "                                                        u'2530369')])),\n",
       "                                         (u'last-updated', u'11/10/2017'),\n",
       "                                         (u'oneWeekChange',\n",
       "                                          OrderedDict([(u'@deprecated',\n",
       "                                                        u'true')])),\n",
       "                                         (u'valueChange',\n",
       "                                          OrderedDict([(u'@duration', u'30'),\n",
       "                                                       (u'@currency', u'USD'),\n",
       "                                                       ('#text', u'52371')])),\n",
       "                                         (u'valuationRange',\n",
       "                                          OrderedDict([(u'low',\n",
       "                                                        OrderedDict([(u'@currency',\n",
       "                                                                      u'USD'),\n",
       "                                                                     ('#text',\n",
       "                                                                      u'1670043')])),\n",
       "                                                       (u'high',\n",
       "                                                        OrderedDict([(u'@currency',\n",
       "                                                                      u'USD'),\n",
       "                                                                     ('#text',\n",
       "                                                                      u'3441302')]))])),\n",
       "                                         (u'percentile', u'0')])),\n",
       "                           (u'localRealEstate',\n",
       "                            OrderedDict([(u'region',\n",
       "                                          OrderedDict([(u'@name', u'Venice'),\n",
       "                                                       (u'@id', u'21056'),\n",
       "                                                       (u'@type',\n",
       "                                                        u'neighborhood'),\n",
       "                                                       (u'zindexValue',\n",
       "                                                        u'1,551,500'),\n",
       "                                                       (u'links',\n",
       "                                                        OrderedDict([(u'overview',\n",
       "                                                                      u'http://www.zillow.com/local-info/CA-Los-Angeles/Venice/r_21056/'),\n",
       "                                                                     (u'forSaleByOwner',\n",
       "                                                                      u'http://www.zillow.com/venice-los-angeles-ca/fsbo/'),\n",
       "                                                                     (u'forSale',\n",
       "                                                                      u'http://www.zillow.com/venice-los-angeles-ca/')]))]))])),\n",
       "                           (u'regions',\n",
       "                            OrderedDict([(u'zipcode-id', u'96128'),\n",
       "                                         (u'city-id', u'12447'),\n",
       "                                         (u'county-id', u'3101'),\n",
       "                                         (u'state-id', u'9')]))]))])"
      ]
     },
     "execution_count": 8,
     "metadata": {},
     "output_type": "execute_result"
    }
   ],
   "source": [
    "# Let's see the ROOT (see from the above picture)\n",
    "responseResultDict.get('Zestimate:zestimate')"
   ]
  },
  {
   "cell_type": "markdown",
   "metadata": {},
   "source": [
    "<img src = \"Chap4e.gif\">"
   ]
  },
  {
   "cell_type": "code",
   "execution_count": 9,
   "metadata": {},
   "outputs": [
    {
     "data": {
      "text/plain": [
       "OrderedDict([(u'zpid', u'2100641621'),\n",
       "             (u'links',\n",
       "              OrderedDict([(u'homedetails',\n",
       "                            u'https://www.zillow.com/homedetails/3400-Pacific-Ave-APT-201-Marina-Del-Rey-CA-90292/2100641621_zpid/'),\n",
       "                           (u'mapthishome',\n",
       "                            u'http://www.zillow.com/homes/2100641621_zpid/'),\n",
       "                           (u'comparables',\n",
       "                            u'http://www.zillow.com/homes/comps/2100641621_zpid/')])),\n",
       "             (u'address',\n",
       "              OrderedDict([(u'street', u'3400 Pacific Ave APT 201'),\n",
       "                           (u'zipcode', u'90292'),\n",
       "                           (u'city', u'Marina Del Rey'),\n",
       "                           (u'state', u'CA'),\n",
       "                           (u'latitude', u'33.9781'),\n",
       "                           (u'longitude', u'-118.4643')])),\n",
       "             (u'zestimate',\n",
       "              OrderedDict([(u'amount',\n",
       "                            OrderedDict([(u'@currency', u'USD'),\n",
       "                                         ('#text', u'2530369')])),\n",
       "                           (u'last-updated', u'11/10/2017'),\n",
       "                           (u'oneWeekChange',\n",
       "                            OrderedDict([(u'@deprecated', u'true')])),\n",
       "                           (u'valueChange',\n",
       "                            OrderedDict([(u'@duration', u'30'),\n",
       "                                         (u'@currency', u'USD'),\n",
       "                                         ('#text', u'52371')])),\n",
       "                           (u'valuationRange',\n",
       "                            OrderedDict([(u'low',\n",
       "                                          OrderedDict([(u'@currency', u'USD'),\n",
       "                                                       ('#text',\n",
       "                                                        u'1670043')])),\n",
       "                                         (u'high',\n",
       "                                          OrderedDict([(u'@currency', u'USD'),\n",
       "                                                       ('#text',\n",
       "                                                        u'3441302')]))])),\n",
       "                           (u'percentile', u'0')])),\n",
       "             (u'localRealEstate',\n",
       "              OrderedDict([(u'region',\n",
       "                            OrderedDict([(u'@name', u'Venice'),\n",
       "                                         (u'@id', u'21056'),\n",
       "                                         (u'@type', u'neighborhood'),\n",
       "                                         (u'zindexValue', u'1,551,500'),\n",
       "                                         (u'links',\n",
       "                                          OrderedDict([(u'overview',\n",
       "                                                        u'http://www.zillow.com/local-info/CA-Los-Angeles/Venice/r_21056/'),\n",
       "                                                       (u'forSaleByOwner',\n",
       "                                                        u'http://www.zillow.com/venice-los-angeles-ca/fsbo/'),\n",
       "                                                       (u'forSale',\n",
       "                                                        u'http://www.zillow.com/venice-los-angeles-ca/')]))]))])),\n",
       "             (u'regions',\n",
       "              OrderedDict([(u'zipcode-id', u'96128'),\n",
       "                           (u'city-id', u'12447'),\n",
       "                           (u'county-id', u'3101'),\n",
       "                           (u'state-id', u'9')]))])"
      ]
     },
     "execution_count": 9,
     "metadata": {},
     "output_type": "execute_result"
    }
   ],
   "source": [
    "# There are 3 elements inside the ROOT (see from the above picture)\n",
    "# 1 request : this is our request\n",
    "responseResultDict.get('Zestimate:zestimate')['request']\n",
    "\n",
    "# 2 message : this is message whether our request is successfull or others\n",
    "responseResultDict.get('Zestimate:zestimate')['message']\n",
    "\n",
    "# 3 response : this is the actual response of our request\n",
    "# Note : we need to drill-down to results and result to get the actual data\n",
    "responseResultDict.get('Zestimate:zestimate')['response']\n"
   ]
  },
  {
   "cell_type": "markdown",
   "metadata": {},
   "source": [
    "<img src = \"Chap4f.gif\">"
   ]
  },
  {
   "cell_type": "code",
   "execution_count": 10,
   "metadata": {},
   "outputs": [
    {
     "name": "stdout",
     "output_type": "stream",
     "text": [
      "USD 2530369\n"
     ]
    }
   ],
   "source": [
    "# Example (see from the above picture)\n",
    "myCurrency = responseResultDict.get('Zestimate:zestimate')['response']['zestimate']['amount']['@currency']\n",
    "myEstimate = responseResultDict.get('Zestimate:zestimate')['response']['zestimate']['amount']['#text']\n",
    "print myCurrency + \" \" + myEstimate"
   ]
  },
  {
   "cell_type": "code",
   "execution_count": 11,
   "metadata": {},
   "outputs": [
    {
     "name": "stdout",
     "output_type": "stream",
     "text": [
      "<?xml version=\"1.0\" encoding=\"utf-8\"?><Chart:chart xsi:schemaLocation=\"http://www.zillow.com/static/xsd/Chart.xsd https://www.zillowstatic.com/vstatic/64dd1c9/static/xsd/Chart.xsd\" xmlns:xsi=\"http://www.w3.org/2001/XMLSchema-instance\" xmlns:Chart=\"http://www.zillow.com/static/xsd/Chart.xsd\"><request><zpid>2105558144</zpid><unit-type>dollar</unit-type><width>600</width><height>300</height></request><message><text>Request successfully processed</text><code>0</code></message><response><url>https://www.zillow.com:443/app?chartDuration=10years&amp;chartType=partner&amp;height=300&amp;page=webservice%2FGetChart&amp;service=chart&amp;width=600&amp;zpid=2105558144</url></response></Chart:chart><!-- H:010  T:79ms  S:202  R:Mon Nov 13 14:17:05 PST 2017  B:5.0.49536.3-hotfix_2017-11-06.b48c77d~hotfix-platform-for-2017-11-06.a932834 -->\n",
      "OrderedDict([(u'Chart:chart', OrderedDict([(u'@xsi:schemaLocation', u'http://www.zillow.com/static/xsd/Chart.xsd https://www.zillowstatic.com/vstatic/64dd1c9/static/xsd/Chart.xsd'), (u'@xmlns:xsi', u'http://www.w3.org/2001/XMLSchema-instance'), (u'@xmlns:Chart', u'http://www.zillow.com/static/xsd/Chart.xsd'), (u'request', OrderedDict([(u'zpid', u'2105558144'), (u'unit-type', u'dollar'), (u'width', u'600'), (u'height', u'300')])), (u'message', OrderedDict([(u'text', u'Request successfully processed'), (u'code', u'0')])), (u'response', OrderedDict([(u'url', u'https://www.zillow.com:443/app?chartDuration=10years&chartType=partner&height=300&page=webservice%2FGetChart&service=chart&width=600&zpid=2105558144')]))]))])\n"
     ]
    }
   ],
   "source": [
    "###################\n",
    "# 3. GetChart API #\n",
    "###################\n",
    "\n",
    "# Set our ZWSID and zpid that we'd like to search\n",
    "data = {'zws-id' : key,\n",
    "        'zpid' : '2105558144',\n",
    "        'unit-type' : 'dollar',\n",
    "        'width' : 600,\n",
    "        'height' : 300,\n",
    "        'chartDuration' : '10years'}\n",
    "\n",
    "# Making request to zillow API\n",
    "# Note:\n",
    "# The request will be formatted like following :\n",
    "# https://www.zillow.com/webservice/GetChart.htm?zws-id=xxx_3bebs&zpid=2105558144&unit-type=dollar&width=600&height=300&chartDuration=10years\n",
    "# We also can paste and test it on web browser address bar\n",
    "response = requests.get(\"https://www.zillow.com/webservice/GetChart.htm\", params = data)\n",
    "\n",
    "# If our request successfully processed, the response status code will be 200\n",
    "if response.status_code == 200:\n",
    "    # the response will be in XML document format\n",
    "    responseResultXML = response.text\n",
    "else:\n",
    "    print \"Ooopss... something went wrong : \" + response.status_code\n",
    "\n",
    "# Let's try to view the response in XML document format\n",
    "print responseResultXML\n",
    "\n",
    "# To make it easier for us to access the response\n",
    "# We can convert the XML document format into Python dictionary\n",
    "responseResultDict = xmltodict.parse(responseResultXML)\n",
    "\n",
    "# now we can try to view the response in Python dictionary format\n",
    "print responseResultDict\n"
   ]
  },
  {
   "cell_type": "markdown",
   "metadata": {},
   "source": [
    "<img src = \"Chap4g.gif\">"
   ]
  },
  {
   "cell_type": "code",
   "execution_count": 12,
   "metadata": {},
   "outputs": [
    {
     "data": {
      "text/plain": [
       "OrderedDict([(u'@xsi:schemaLocation',\n",
       "              u'http://www.zillow.com/static/xsd/Chart.xsd https://www.zillowstatic.com/vstatic/64dd1c9/static/xsd/Chart.xsd'),\n",
       "             (u'@xmlns:xsi', u'http://www.w3.org/2001/XMLSchema-instance'),\n",
       "             (u'@xmlns:Chart', u'http://www.zillow.com/static/xsd/Chart.xsd'),\n",
       "             (u'request',\n",
       "              OrderedDict([(u'zpid', u'2105558144'),\n",
       "                           (u'unit-type', u'dollar'),\n",
       "                           (u'width', u'600'),\n",
       "                           (u'height', u'300')])),\n",
       "             (u'message',\n",
       "              OrderedDict([(u'text', u'Request successfully processed'),\n",
       "                           (u'code', u'0')])),\n",
       "             (u'response',\n",
       "              OrderedDict([(u'url',\n",
       "                            u'https://www.zillow.com:443/app?chartDuration=10years&chartType=partner&height=300&page=webservice%2FGetChart&service=chart&width=600&zpid=2105558144')]))])"
      ]
     },
     "execution_count": 12,
     "metadata": {},
     "output_type": "execute_result"
    }
   ],
   "source": [
    "# Let's see the ROOT (see from the above picture)\n",
    "responseResultDict.get('Chart:chart')"
   ]
  },
  {
   "cell_type": "markdown",
   "metadata": {},
   "source": [
    "<img src = \"Chap4h.gif\">"
   ]
  },
  {
   "cell_type": "code",
   "execution_count": 13,
   "metadata": {},
   "outputs": [
    {
     "data": {
      "text/plain": [
       "OrderedDict([(u'url',\n",
       "              u'https://www.zillow.com:443/app?chartDuration=10years&chartType=partner&height=300&page=webservice%2FGetChart&service=chart&width=600&zpid=2105558144')])"
      ]
     },
     "execution_count": 13,
     "metadata": {},
     "output_type": "execute_result"
    }
   ],
   "source": [
    "# There are 3 elements inside the ROOT (see from the above picture)\n",
    "# 1 request : this is our request\n",
    "responseResultDict.get('Chart:chart')['request']\n",
    "\n",
    "# 2 message : this is message whether our request is successfull or others\n",
    "responseResultDict.get('Chart:chart')['message']\n",
    "\n",
    "# 3 response : this is the actual response of our request\n",
    "# Note : we need to drill-down to results and result to get the actual data\n",
    "responseResultDict.get('Chart:chart')['response']\n"
   ]
  },
  {
   "cell_type": "markdown",
   "metadata": {},
   "source": [
    "<img src = \"Chap4i.gif\">"
   ]
  },
  {
   "cell_type": "code",
   "execution_count": 14,
   "metadata": {},
   "outputs": [
    {
     "data": {
      "image/png": "[encoded data removed]",
      "text/plain": [
       "<PIL.GifImagePlugin.GifImageFile image mode=P size=600x300 at 0x663FC18>"
      ]
     },
     "execution_count": 14,
     "metadata": {},
     "output_type": "execute_result"
    }
   ],
   "source": [
    "# Example (see from the above picture)\n",
    "# We also can paste and test myChartUrl on web browser address bar\n",
    "# http://www.zillow.com/app?chartDuration=1year&chartType=partner&height=150&page=webservice%2FGetChart&service=chart&width=300&zpid=48749425\n",
    "myChartUrl = responseResultDict.get('Chart:chart')['response']['url']\n",
    "\n",
    "# Get chart result from zillow website\n",
    "opener = urllib2.build_opener()\n",
    "opener.addheaders = [('User-agent', 'Mozilla/5.0')]\n",
    "response = opener.open(myChartUrl)\n",
    "img_file = cStringIO.StringIO(response.read())\n",
    "image = Image.open(img_file)\n",
    "\n",
    "# Show the result\n",
    "image\n"
   ]
  },
  {
   "cell_type": "markdown",
   "metadata": {},
   "source": [
    "### REFERENCE LISTS:\n",
    "### https://en.wikipedia.org/wiki/Zillow\n",
    "### https://www.zillow.com/howto/api/APIOverview.htm\n",
    "\n"
   ]
  },
  {
   "cell_type": "code",
   "execution_count": null,
   "metadata": {
    "collapsed": true
   },
   "outputs": [],
   "source": []
  }
 ],
 "metadata": {
  "kernelspec": {
   "display_name": "Python 2",
   "language": "python",
   "name": "python2"
  },
  "language_info": {
   "codemirror_mode": {
    "name": "ipython",
    "version": 2
   },
   "file_extension": ".py",
   "mimetype": "text/x-python",
   "name": "python",
   "nbconvert_exporter": "python",
   "pygments_lexer": "ipython2",
   "version": "2.7.13"
  }
 },
 "nbformat": 4,
 "nbformat_minor": 2
}
